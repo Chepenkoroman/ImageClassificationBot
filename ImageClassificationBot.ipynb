{
  "nbformat": 4,
  "nbformat_minor": 0,
  "metadata": {
    "colab": {
      "provenance": [],
      "collapsed_sections": [
        "0XQM1zmDsdue"
      ]
    },
    "kernelspec": {
      "name": "python3",
      "display_name": "Python 3"
    },
    "language_info": {
      "name": "python"
    }
  },
  "cells": [
    {
      "cell_type": "markdown",
      "source": [
        "# Image Classification Bot\n",
        "\n",
        "This is the Image Classification Bot! This Chatbot is trying to predict class of the sent image. This bot uses ResNet50 from TensorFlow.\n",
        "\n",
        "The code below is an example of the creation a telegram bot which takes the image from user and  predicts the class of that image. \n",
        "I created the telegram bot using the module which is called python-telegram-bot. This bot uses ResNet50 model for the prediction and works with images and keras model/tensorflow model takes that image as input and then bot replies the classisifcation's prediction.\n",
        "\n"
      ],
      "metadata": {
        "id": "3GoysXFiqk3_"
      }
    },
    {
      "cell_type": "markdown",
      "source": [
        "# Importing necessary libraries"
      ],
      "metadata": {
        "id": "Gh9h0_8JuyHJ"
      }
    },
    {
      "cell_type": "code",
      "source": [
        "from telegram.ext import Updater, Filters, CommandHandler, MessageHandler\n",
        "import cv2\n",
        "from tensorflow.keras.applications.resnet50 import ResNet50\n",
        "import numpy as np\n",
        "from labels import lbl"
      ],
      "metadata": {
        "id": "_9UYSkhT5Ge0"
      },
      "execution_count": 3,
      "outputs": []
    },
    {
      "cell_type": "markdown",
      "source": [
        "# Installing necessary libraries"
      ],
      "metadata": {
        "id": "ecIMqUV9u-3i"
      }
    },
    {
      "cell_type": "code",
      "source": [
        "!pip install python-telegram-bot"
      ],
      "metadata": {
        "id": "7cm3D9JR5ZTo"
      },
      "execution_count": null,
      "outputs": []
    },
    {
      "cell_type": "markdown",
      "source": [
        "# The main code"
      ],
      "metadata": {
        "id": "0XQM1zmDsdue"
      }
    },
    {
      "cell_type": "code",
      "execution_count": null,
      "metadata": {
        "id": "4mRlSGWh4-tQ"
      },
      "outputs": [],
      "source": [
        "model = ResNet50()\n",
        "\n",
        "def start(updater, context): \n",
        "\tupdater.message.reply_text(\"👋 Welcome to the Image Classification Bot! This Chatbot is trying to predict class of the sent image. This bot uses ResNet50 from TensorFlow.\\n\\nJust send the image you want to classify.\")\n",
        "\n",
        "def help_(updater, context): \n",
        "\tupdater.message.reply_text(\"This Chat Bot is only for image classification.\\nJust send the image you want to classify 💌\")\n",
        "\n",
        "def message(updater, context):\n",
        "\tmsg = updater.message.text\n",
        "\tprint(msg)\n",
        "\tupdater.message.reply_text(\"😢 Sorry, I don't understand your message. This Chat Bot is only for the image classification. Send me any picture and I will try to classificate it.\")\n",
        "\n",
        "def image(updater, context):\n",
        "\tphoto = updater.message.photo[-1].get_file()\n",
        "\tphoto.download(\"img.jpg\")\n",
        "\n",
        "\timg = cv2.imread(\"img.jpg\")\n",
        "\n",
        "\timg = cv2.resize(img, (224,224))\n",
        "\timg = np.reshape(img, (1,224,224,3))\n",
        "\n",
        "\tpred = np.argmax(model.predict(img))\n",
        "\n",
        "\tpred = lbl[pred]\n",
        "\n",
        "\tprint(pred)\n",
        "\n",
        "\tupdater.message.reply_text(\"🖼 It seems to me that this picture can belong to these categories: \"+pred)\n",
        "\n",
        "\n",
        "\n",
        "\n",
        "\n",
        "updater = Updater(\"##TOKEN##\")\n",
        "dispatcher = updater.dispatcher\n",
        "\n",
        "dispatcher.add_handler(CommandHandler(\"start\", start))\n",
        "dispatcher.add_handler(CommandHandler(\"help\", help_))\n",
        "\n",
        "dispatcher.add_handler(MessageHandler(Filters.text, message))\n",
        "\n",
        "dispatcher.add_handler(MessageHandler(Filters.photo, image))\n",
        "\n",
        "\n",
        "updater.start_polling()\n",
        "updater.idle()"
      ]
    }
  ]
}